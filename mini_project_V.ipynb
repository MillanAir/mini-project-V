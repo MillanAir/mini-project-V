{
 "cells": [
  {
   "attachments": {},
   "cell_type": "markdown",
   "metadata": {},
   "source": [
    "## Identifying Duplicate Questions"
   ]
  },
  {
   "attachments": {},
   "cell_type": "markdown",
   "metadata": {},
   "source": [
    "Over 100 million people visit Quora every month, so it's no surprise that many people ask similar (or the same) questions. Various questions with the same intent can cause people to spend extra time searching for the best answer to their question, and results in members answering multiple versions of the same question. Quora uses random forest to identify duplicated questions to provide a better experience to active seekers and writers, and offer more value to both of these groups in the long term.\n",
    "Follow the steps outlined below to build the appropriate classifier model. \n",
    "\n",
    "\n",
    "Steps:\n",
    "- Download data\n",
    "- Exploration\n",
    "- Cleaning\n",
    "- Feature Engineering\n",
    "- Modeling\n",
    "\n",
    "By the end of this project you should have **a presentation that describes the model you built** and its **performance**. \n"
   ]
  },
  {
   "cell_type": "code",
   "execution_count": 59,
   "metadata": {},
   "outputs": [],
   "source": [
    "import pandas as pd"
   ]
  },
  {
   "attachments": {},
   "cell_type": "markdown",
   "metadata": {},
   "source": [
    "Link for the data<br/>\n",
    "`https://drive.google.com/file/d/19iWVGLBi7edqybybam56bt2Zy7vpf1Xc/view?usp=sharing`"
   ]
  },
  {
   "cell_type": "code",
   "execution_count": 60,
   "metadata": {},
   "outputs": [],
   "source": [
    "df = pd.read_csv(\"./data/train.csv\")"
   ]
  },
  {
   "attachments": {},
   "cell_type": "markdown",
   "metadata": {},
   "source": [
    "#### Note\n",
    "There is no designated test.csv file. The train.csv file is the entire dataset. Part of the data in the train.csv file should be set aside to act as the final testing data."
   ]
  },
  {
   "cell_type": "code",
   "execution_count": 61,
   "metadata": {},
   "outputs": [],
   "source": [
    "from sklearn.model_selection import train_test_split"
   ]
  },
  {
   "cell_type": "code",
   "execution_count": 62,
   "metadata": {},
   "outputs": [],
   "source": [
    "train, test = train_test_split(df, test_size=0.2)"
   ]
  },
  {
   "attachments": {},
   "cell_type": "markdown",
   "metadata": {},
   "source": [
    "### Exploration"
   ]
  },
  {
   "cell_type": "code",
   "execution_count": 63,
   "metadata": {},
   "outputs": [
    {
     "name": "stdout",
     "output_type": "stream",
     "text": [
      "Shape of the data:  (323432, 6)\n",
      "id               int64\n",
      "qid1             int64\n",
      "qid2             int64\n",
      "question1       object\n",
      "question2       object\n",
      "is_duplicate     int64\n",
      "dtype: object\n"
     ]
    }
   ],
   "source": [
    "print(\"Shape of the data: \", train.shape)\n",
    "print(df.dtypes)"
   ]
  },
  {
   "cell_type": "code",
   "execution_count": 64,
   "metadata": {},
   "outputs": [
    {
     "data": {
      "text/html": [
       "<div>\n",
       "<style scoped>\n",
       "    .dataframe tbody tr th:only-of-type {\n",
       "        vertical-align: middle;\n",
       "    }\n",
       "\n",
       "    .dataframe tbody tr th {\n",
       "        vertical-align: top;\n",
       "    }\n",
       "\n",
       "    .dataframe thead th {\n",
       "        text-align: right;\n",
       "    }\n",
       "</style>\n",
       "<table border=\"1\" class=\"dataframe\">\n",
       "  <thead>\n",
       "    <tr style=\"text-align: right;\">\n",
       "      <th></th>\n",
       "      <th>id</th>\n",
       "      <th>qid1</th>\n",
       "      <th>qid2</th>\n",
       "      <th>question1</th>\n",
       "      <th>question2</th>\n",
       "      <th>is_duplicate</th>\n",
       "    </tr>\n",
       "  </thead>\n",
       "  <tbody>\n",
       "    <tr>\n",
       "      <th>241057</th>\n",
       "      <td>241057</td>\n",
       "      <td>9769</td>\n",
       "      <td>353008</td>\n",
       "      <td>Which is the best speech you ever heard?</td>\n",
       "      <td>What are some of the best speeches you have he...</td>\n",
       "      <td>1</td>\n",
       "    </tr>\n",
       "    <tr>\n",
       "      <th>138612</th>\n",
       "      <td>138612</td>\n",
       "      <td>214731</td>\n",
       "      <td>220679</td>\n",
       "      <td>Did Joseph Goebbels read many books?</td>\n",
       "      <td>Was Joseph Goebbels an avid reader?</td>\n",
       "      <td>1</td>\n",
       "    </tr>\n",
       "    <tr>\n",
       "      <th>139988</th>\n",
       "      <td>139988</td>\n",
       "      <td>21863</td>\n",
       "      <td>222535</td>\n",
       "      <td>How do I tell her I love her?</td>\n",
       "      <td>How do I tell her I don't love her the way she...</td>\n",
       "      <td>0</td>\n",
       "    </tr>\n",
       "    <tr>\n",
       "      <th>29069</th>\n",
       "      <td>29069</td>\n",
       "      <td>39192</td>\n",
       "      <td>1296</td>\n",
       "      <td>What happens if you burn 1000 calories a day?</td>\n",
       "      <td>Is it possible to burn 1000 calories each day?...</td>\n",
       "      <td>0</td>\n",
       "    </tr>\n",
       "    <tr>\n",
       "      <th>51205</th>\n",
       "      <td>51205</td>\n",
       "      <td>90866</td>\n",
       "      <td>90867</td>\n",
       "      <td>How much Oxygen does an average person need in...</td>\n",
       "      <td>How many hairs does the average person lose pe...</td>\n",
       "      <td>0</td>\n",
       "    </tr>\n",
       "  </tbody>\n",
       "</table>\n",
       "</div>"
      ],
      "text/plain": [
       "            id    qid1    qid2   \n",
       "241057  241057    9769  353008  \\\n",
       "138612  138612  214731  220679   \n",
       "139988  139988   21863  222535   \n",
       "29069    29069   39192    1296   \n",
       "51205    51205   90866   90867   \n",
       "\n",
       "                                                question1   \n",
       "241057           Which is the best speech you ever heard?  \\\n",
       "138612               Did Joseph Goebbels read many books?   \n",
       "139988                      How do I tell her I love her?   \n",
       "29069       What happens if you burn 1000 calories a day?   \n",
       "51205   How much Oxygen does an average person need in...   \n",
       "\n",
       "                                                question2  is_duplicate  \n",
       "241057  What are some of the best speeches you have he...             1  \n",
       "138612                Was Joseph Goebbels an avid reader?             1  \n",
       "139988  How do I tell her I don't love her the way she...             0  \n",
       "29069   Is it possible to burn 1000 calories each day?...             0  \n",
       "51205   How many hairs does the average person lose pe...             0  "
      ]
     },
     "execution_count": 64,
     "metadata": {},
     "output_type": "execute_result"
    }
   ],
   "source": [
    "train.sample(5)"
   ]
  },
  {
   "cell_type": "code",
   "execution_count": 65,
   "metadata": {},
   "outputs": [
    {
     "data": {
      "text/html": [
       "<div>\n",
       "<style scoped>\n",
       "    .dataframe tbody tr th:only-of-type {\n",
       "        vertical-align: middle;\n",
       "    }\n",
       "\n",
       "    .dataframe tbody tr th {\n",
       "        vertical-align: top;\n",
       "    }\n",
       "\n",
       "    .dataframe thead th {\n",
       "        text-align: right;\n",
       "    }\n",
       "</style>\n",
       "<table border=\"1\" class=\"dataframe\">\n",
       "  <thead>\n",
       "    <tr style=\"text-align: right;\">\n",
       "      <th></th>\n",
       "      <th>id</th>\n",
       "      <th>qid1</th>\n",
       "      <th>qid2</th>\n",
       "      <th>is_duplicate</th>\n",
       "    </tr>\n",
       "  </thead>\n",
       "  <tbody>\n",
       "    <tr>\n",
       "      <th>count</th>\n",
       "      <td>323432.000000</td>\n",
       "      <td>323432.000000</td>\n",
       "      <td>323432.000000</td>\n",
       "      <td>323432.000000</td>\n",
       "    </tr>\n",
       "    <tr>\n",
       "      <th>mean</th>\n",
       "      <td>201901.858684</td>\n",
       "      <td>216926.058362</td>\n",
       "      <td>220689.600911</td>\n",
       "      <td>0.369583</td>\n",
       "    </tr>\n",
       "    <tr>\n",
       "      <th>std</th>\n",
       "      <td>116707.119368</td>\n",
       "      <td>157660.428282</td>\n",
       "      <td>159743.675875</td>\n",
       "      <td>0.482693</td>\n",
       "    </tr>\n",
       "    <tr>\n",
       "      <th>min</th>\n",
       "      <td>0.000000</td>\n",
       "      <td>1.000000</td>\n",
       "      <td>2.000000</td>\n",
       "      <td>0.000000</td>\n",
       "    </tr>\n",
       "    <tr>\n",
       "      <th>25%</th>\n",
       "      <td>100755.750000</td>\n",
       "      <td>74188.500000</td>\n",
       "      <td>74605.000000</td>\n",
       "      <td>0.000000</td>\n",
       "    </tr>\n",
       "    <tr>\n",
       "      <th>50%</th>\n",
       "      <td>201786.000000</td>\n",
       "      <td>191692.000000</td>\n",
       "      <td>196778.000000</td>\n",
       "      <td>0.000000</td>\n",
       "    </tr>\n",
       "    <tr>\n",
       "      <th>75%</th>\n",
       "      <td>302920.250000</td>\n",
       "      <td>346065.000000</td>\n",
       "      <td>353930.750000</td>\n",
       "      <td>1.000000</td>\n",
       "    </tr>\n",
       "    <tr>\n",
       "      <th>max</th>\n",
       "      <td>404288.000000</td>\n",
       "      <td>537930.000000</td>\n",
       "      <td>537931.000000</td>\n",
       "      <td>1.000000</td>\n",
       "    </tr>\n",
       "  </tbody>\n",
       "</table>\n",
       "</div>"
      ],
      "text/plain": [
       "                  id           qid1           qid2   is_duplicate\n",
       "count  323432.000000  323432.000000  323432.000000  323432.000000\n",
       "mean   201901.858684  216926.058362  220689.600911       0.369583\n",
       "std    116707.119368  157660.428282  159743.675875       0.482693\n",
       "min         0.000000       1.000000       2.000000       0.000000\n",
       "25%    100755.750000   74188.500000   74605.000000       0.000000\n",
       "50%    201786.000000  191692.000000  196778.000000       0.000000\n",
       "75%    302920.250000  346065.000000  353930.750000       1.000000\n",
       "max    404288.000000  537930.000000  537931.000000       1.000000"
      ]
     },
     "execution_count": 65,
     "metadata": {},
     "output_type": "execute_result"
    }
   ],
   "source": [
    "train.describe()"
   ]
  },
  {
   "cell_type": "code",
   "execution_count": 66,
   "metadata": {},
   "outputs": [
    {
     "data": {
      "text/plain": [
       "id              0\n",
       "qid1            0\n",
       "qid2            0\n",
       "question1       1\n",
       "question2       2\n",
       "is_duplicate    0\n",
       "dtype: int64"
      ]
     },
     "execution_count": 66,
     "metadata": {},
     "output_type": "execute_result"
    }
   ],
   "source": [
    "train.isnull().sum()"
   ]
  },
  {
   "cell_type": "code",
   "execution_count": 67,
   "metadata": {},
   "outputs": [],
   "source": [
    "# remove null values\n",
    "train = train.dropna()"
   ]
  },
  {
   "cell_type": "code",
   "execution_count": 68,
   "metadata": {},
   "outputs": [
    {
     "data": {
      "text/plain": [
       "id              0\n",
       "qid1            0\n",
       "qid2            0\n",
       "question1       0\n",
       "question2       0\n",
       "is_duplicate    0\n",
       "dtype: int64"
      ]
     },
     "execution_count": 68,
     "metadata": {},
     "output_type": "execute_result"
    }
   ],
   "source": [
    "train.isnull().sum()"
   ]
  },
  {
   "cell_type": "code",
   "execution_count": 69,
   "metadata": {},
   "outputs": [
    {
     "data": {
      "text/plain": [
       "(323429, 6)"
      ]
     },
     "execution_count": 69,
     "metadata": {},
     "output_type": "execute_result"
    }
   ],
   "source": [
    "train.shape"
   ]
  },
  {
   "cell_type": "code",
   "execution_count": 304,
   "metadata": {},
   "outputs": [
    {
     "data": {
      "text/plain": [
       "<AxesSubplot:xlabel='is_duplicate'>"
      ]
     },
     "execution_count": 304,
     "metadata": {},
     "output_type": "execute_result"
    },
    {
     "data": {
      "image/png": "[encoded data removed]",
      "text/plain": [
       "<Figure size 640x480 with 1 Axes>"
      ]
     },
     "metadata": {},
     "output_type": "display_data"
    }
   ],
   "source": [
    "# plot count of is_duplicate 1 vs 0\n",
    "import matplotlib.pyplot as plt\n",
    "\n",
    "# 1 is duplicate and 0 is not duplicate and different color 1 is blue and 0 is red\n",
    "train.groupby(\"is_duplicate\")[\"id\"].count().plot.bar(color=['lightblue', 'pink'])\n"
   ]
  },
  {
   "attachments": {},
   "cell_type": "markdown",
   "metadata": {},
   "source": [
    "### Cleaning\n",
    "\n",
    "- Tokenization\n",
    "- Stopwords cleaning\n",
    "- Removing punctuation\n",
    "- Normalizing\n",
    "- Stemming"
   ]
  },
  {
   "attachments": {},
   "cell_type": "markdown",
   "metadata": {},
   "source": [
    "#### Tokenization"
   ]
  },
  {
   "cell_type": "code",
   "execution_count": 70,
   "metadata": {},
   "outputs": [
    {
     "name": "stderr",
     "output_type": "stream",
     "text": [
      "[nltk_data] Downloading package punkt to C:\\Users\\Verma\n",
      "[nltk_data]     Ashiyaan\\AppData\\Roaming\\nltk_data...\n",
      "[nltk_data]   Package punkt is already up-to-date!\n"
     ]
    },
    {
     "data": {
      "text/plain": [
       "True"
      ]
     },
     "execution_count": 70,
     "metadata": {},
     "output_type": "execute_result"
    }
   ],
   "source": [
    "# tokenization\n",
    "import nltk\n",
    "from nltk.tokenize import word_tokenize\n",
    "nltk.download('punkt')"
   ]
  },
  {
   "cell_type": "code",
   "execution_count": 71,
   "metadata": {},
   "outputs": [
    {
     "data": {
      "text/html": [
       "<div>\n",
       "<style scoped>\n",
       "    .dataframe tbody tr th:only-of-type {\n",
       "        vertical-align: middle;\n",
       "    }\n",
       "\n",
       "    .dataframe tbody tr th {\n",
       "        vertical-align: top;\n",
       "    }\n",
       "\n",
       "    .dataframe thead th {\n",
       "        text-align: right;\n",
       "    }\n",
       "</style>\n",
       "<table border=\"1\" class=\"dataframe\">\n",
       "  <thead>\n",
       "    <tr style=\"text-align: right;\">\n",
       "      <th></th>\n",
       "      <th>id</th>\n",
       "      <th>qid1</th>\n",
       "      <th>qid2</th>\n",
       "      <th>question1</th>\n",
       "      <th>question2</th>\n",
       "      <th>is_duplicate</th>\n",
       "      <th>tokens1</th>\n",
       "      <th>tokens2</th>\n",
       "    </tr>\n",
       "  </thead>\n",
       "  <tbody>\n",
       "    <tr>\n",
       "      <th>298900</th>\n",
       "      <td>298900</td>\n",
       "      <td>132471</td>\n",
       "      <td>44677</td>\n",
       "      <td>What are some lesser known facts about PM Nare...</td>\n",
       "      <td>What are some lesser known facts/incidents rel...</td>\n",
       "      <td>1</td>\n",
       "      <td>[What, are, some, lesser, known, facts, about,...</td>\n",
       "      <td>[What, are, some, lesser, known, facts/inciden...</td>\n",
       "    </tr>\n",
       "    <tr>\n",
       "      <th>101435</th>\n",
       "      <td>101435</td>\n",
       "      <td>168039</td>\n",
       "      <td>168040</td>\n",
       "      <td>How do I use PC's internet connection on Andro...</td>\n",
       "      <td>Can I use net on my Android phone from cable b...</td>\n",
       "      <td>0</td>\n",
       "      <td>[How, do, I, use, PC, 's, internet, connection...</td>\n",
       "      <td>[Can, I, use, net, on, my, Android, phone, fro...</td>\n",
       "    </tr>\n",
       "    <tr>\n",
       "      <th>349253</th>\n",
       "      <td>349253</td>\n",
       "      <td>226755</td>\n",
       "      <td>5914</td>\n",
       "      <td>How do you delete your Yahoo email account?</td>\n",
       "      <td>How can you delete your Yahoo mail account?</td>\n",
       "      <td>1</td>\n",
       "      <td>[How, do, you, delete, your, Yahoo, email, acc...</td>\n",
       "      <td>[How, can, you, delete, your, Yahoo, mail, acc...</td>\n",
       "    </tr>\n",
       "    <tr>\n",
       "      <th>68381</th>\n",
       "      <td>68381</td>\n",
       "      <td>118184</td>\n",
       "      <td>118185</td>\n",
       "      <td>What is the real world?</td>\n",
       "      <td>What is out there in the real world?</td>\n",
       "      <td>0</td>\n",
       "      <td>[What, is, the, real, world, ?]</td>\n",
       "      <td>[What, is, out, there, in, the, real, world, ?]</td>\n",
       "    </tr>\n",
       "    <tr>\n",
       "      <th>102409</th>\n",
       "      <td>102409</td>\n",
       "      <td>169441</td>\n",
       "      <td>169442</td>\n",
       "      <td>Why do artists/musicians/actors etc tend to be...</td>\n",
       "      <td>What is the future of left wing politics in In...</td>\n",
       "      <td>0</td>\n",
       "      <td>[Why, do, artists/musicians/actors, etc, tend,...</td>\n",
       "      <td>[What, is, the, future, of, left, wing, politi...</td>\n",
       "    </tr>\n",
       "  </tbody>\n",
       "</table>\n",
       "</div>"
      ],
      "text/plain": [
       "            id    qid1    qid2   \n",
       "298900  298900  132471   44677  \\\n",
       "101435  101435  168039  168040   \n",
       "349253  349253  226755    5914   \n",
       "68381    68381  118184  118185   \n",
       "102409  102409  169441  169442   \n",
       "\n",
       "                                                question1   \n",
       "298900  What are some lesser known facts about PM Nare...  \\\n",
       "101435  How do I use PC's internet connection on Andro...   \n",
       "349253        How do you delete your Yahoo email account?   \n",
       "68381                             What is the real world?   \n",
       "102409  Why do artists/musicians/actors etc tend to be...   \n",
       "\n",
       "                                                question2  is_duplicate   \n",
       "298900  What are some lesser known facts/incidents rel...             1  \\\n",
       "101435  Can I use net on my Android phone from cable b...             0   \n",
       "349253        How can you delete your Yahoo mail account?             1   \n",
       "68381                What is out there in the real world?             0   \n",
       "102409  What is the future of left wing politics in In...             0   \n",
       "\n",
       "                                                  tokens1   \n",
       "298900  [What, are, some, lesser, known, facts, about,...  \\\n",
       "101435  [How, do, I, use, PC, 's, internet, connection...   \n",
       "349253  [How, do, you, delete, your, Yahoo, email, acc...   \n",
       "68381                     [What, is, the, real, world, ?]   \n",
       "102409  [Why, do, artists/musicians/actors, etc, tend,...   \n",
       "\n",
       "                                                  tokens2  \n",
       "298900  [What, are, some, lesser, known, facts/inciden...  \n",
       "101435  [Can, I, use, net, on, my, Android, phone, fro...  \n",
       "349253  [How, can, you, delete, your, Yahoo, mail, acc...  \n",
       "68381     [What, is, out, there, in, the, real, world, ?]  \n",
       "102409  [What, is, the, future, of, left, wing, politi...  "
      ]
     },
     "execution_count": 71,
     "metadata": {},
     "output_type": "execute_result"
    }
   ],
   "source": [
    "train['tokens1'] = train['question1'].apply(word_tokenize)\n",
    "train['tokens2'] = train['question2'].apply(word_tokenize)\n",
    "\n",
    "train.head()"
   ]
  },
  {
   "cell_type": "code",
   "execution_count": 257,
   "metadata": {},
   "outputs": [],
   "source": [
    "test['tokens1'] = test['question1'].apply(word_tokenize)\n",
    "test['tokens2'] = test['question2'].apply(word_tokenize)"
   ]
  },
  {
   "attachments": {},
   "cell_type": "markdown",
   "metadata": {},
   "source": [
    "#### Stopwords cleaning"
   ]
  },
  {
   "cell_type": "code",
   "execution_count": 72,
   "metadata": {},
   "outputs": [
    {
     "name": "stderr",
     "output_type": "stream",
     "text": [
      "[nltk_data] Downloading package stopwords to C:\\Users\\Verma\n",
      "[nltk_data]     Ashiyaan\\AppData\\Roaming\\nltk_data...\n",
      "[nltk_data]   Package stopwords is already up-to-date!\n"
     ]
    }
   ],
   "source": [
    "# stopwords cleaning\n",
    "from nltk.corpus import stopwords\n",
    "nltk.download('stopwords')\n",
    "\n",
    "stop_words = stopwords.words('english')"
   ]
  },
  {
   "cell_type": "code",
   "execution_count": 73,
   "metadata": {},
   "outputs": [],
   "source": [
    "# function to remove stopwords\n",
    "def remove_stopwords(text):\n",
    "    return [word for word in text if word not in stop_words]"
   ]
  },
  {
   "cell_type": "code",
   "execution_count": 74,
   "metadata": {},
   "outputs": [
    {
     "data": {
      "text/html": [
       "<div>\n",
       "<style scoped>\n",
       "    .dataframe tbody tr th:only-of-type {\n",
       "        vertical-align: middle;\n",
       "    }\n",
       "\n",
       "    .dataframe tbody tr th {\n",
       "        vertical-align: top;\n",
       "    }\n",
       "\n",
       "    .dataframe thead th {\n",
       "        text-align: right;\n",
       "    }\n",
       "</style>\n",
       "<table border=\"1\" class=\"dataframe\">\n",
       "  <thead>\n",
       "    <tr style=\"text-align: right;\">\n",
       "      <th></th>\n",
       "      <th>id</th>\n",
       "      <th>qid1</th>\n",
       "      <th>qid2</th>\n",
       "      <th>question1</th>\n",
       "      <th>question2</th>\n",
       "      <th>is_duplicate</th>\n",
       "      <th>tokens1</th>\n",
       "      <th>tokens2</th>\n",
       "    </tr>\n",
       "  </thead>\n",
       "  <tbody>\n",
       "    <tr>\n",
       "      <th>298900</th>\n",
       "      <td>298900</td>\n",
       "      <td>132471</td>\n",
       "      <td>44677</td>\n",
       "      <td>What are some lesser known facts about PM Nare...</td>\n",
       "      <td>What are some lesser known facts/incidents rel...</td>\n",
       "      <td>1</td>\n",
       "      <td>[What, lesser, known, facts, PM, Narendra, Mod...</td>\n",
       "      <td>[What, lesser, known, facts/incidents, related...</td>\n",
       "    </tr>\n",
       "    <tr>\n",
       "      <th>101435</th>\n",
       "      <td>101435</td>\n",
       "      <td>168039</td>\n",
       "      <td>168040</td>\n",
       "      <td>How do I use PC's internet connection on Andro...</td>\n",
       "      <td>Can I use net on my Android phone from cable b...</td>\n",
       "      <td>0</td>\n",
       "      <td>[How, I, use, PC, 's, internet, connection, An...</td>\n",
       "      <td>[Can, I, use, net, Android, phone, cable, broa...</td>\n",
       "    </tr>\n",
       "    <tr>\n",
       "      <th>349253</th>\n",
       "      <td>349253</td>\n",
       "      <td>226755</td>\n",
       "      <td>5914</td>\n",
       "      <td>How do you delete your Yahoo email account?</td>\n",
       "      <td>How can you delete your Yahoo mail account?</td>\n",
       "      <td>1</td>\n",
       "      <td>[How, delete, Yahoo, email, account, ?]</td>\n",
       "      <td>[How, delete, Yahoo, mail, account, ?]</td>\n",
       "    </tr>\n",
       "    <tr>\n",
       "      <th>68381</th>\n",
       "      <td>68381</td>\n",
       "      <td>118184</td>\n",
       "      <td>118185</td>\n",
       "      <td>What is the real world?</td>\n",
       "      <td>What is out there in the real world?</td>\n",
       "      <td>0</td>\n",
       "      <td>[What, real, world, ?]</td>\n",
       "      <td>[What, real, world, ?]</td>\n",
       "    </tr>\n",
       "    <tr>\n",
       "      <th>102409</th>\n",
       "      <td>102409</td>\n",
       "      <td>169441</td>\n",
       "      <td>169442</td>\n",
       "      <td>Why do artists/musicians/actors etc tend to be...</td>\n",
       "      <td>What is the future of left wing politics in In...</td>\n",
       "      <td>0</td>\n",
       "      <td>[Why, artists/musicians/actors, etc, tend, lef...</td>\n",
       "      <td>[What, future, left, wing, politics, India, ?]</td>\n",
       "    </tr>\n",
       "  </tbody>\n",
       "</table>\n",
       "</div>"
      ],
      "text/plain": [
       "            id    qid1    qid2   \n",
       "298900  298900  132471   44677  \\\n",
       "101435  101435  168039  168040   \n",
       "349253  349253  226755    5914   \n",
       "68381    68381  118184  118185   \n",
       "102409  102409  169441  169442   \n",
       "\n",
       "                                                question1   \n",
       "298900  What are some lesser known facts about PM Nare...  \\\n",
       "101435  How do I use PC's internet connection on Andro...   \n",
       "349253        How do you delete your Yahoo email account?   \n",
       "68381                             What is the real world?   \n",
       "102409  Why do artists/musicians/actors etc tend to be...   \n",
       "\n",
       "                                                question2  is_duplicate   \n",
       "298900  What are some lesser known facts/incidents rel...             1  \\\n",
       "101435  Can I use net on my Android phone from cable b...             0   \n",
       "349253        How can you delete your Yahoo mail account?             1   \n",
       "68381                What is out there in the real world?             0   \n",
       "102409  What is the future of left wing politics in In...             0   \n",
       "\n",
       "                                                  tokens1   \n",
       "298900  [What, lesser, known, facts, PM, Narendra, Mod...  \\\n",
       "101435  [How, I, use, PC, 's, internet, connection, An...   \n",
       "349253            [How, delete, Yahoo, email, account, ?]   \n",
       "68381                              [What, real, world, ?]   \n",
       "102409  [Why, artists/musicians/actors, etc, tend, lef...   \n",
       "\n",
       "                                                  tokens2  \n",
       "298900  [What, lesser, known, facts/incidents, related...  \n",
       "101435  [Can, I, use, net, Android, phone, cable, broa...  \n",
       "349253             [How, delete, Yahoo, mail, account, ?]  \n",
       "68381                              [What, real, world, ?]  \n",
       "102409     [What, future, left, wing, politics, India, ?]  "
      ]
     },
     "execution_count": 74,
     "metadata": {},
     "output_type": "execute_result"
    }
   ],
   "source": [
    "train['tokens1'] = train['tokens1'].apply(remove_stopwords)\n",
    "train['tokens2'] = train['tokens2'].apply(remove_stopwords)\n",
    "\n",
    "train.head()"
   ]
  },
  {
   "cell_type": "code",
   "execution_count": 258,
   "metadata": {},
   "outputs": [],
   "source": [
    "test['tokens1'] = test['tokens1'].apply(remove_stopwords)\n",
    "test['tokens2'] = test['tokens2'].apply(remove_stopwords)"
   ]
  },
  {
   "attachments": {},
   "cell_type": "markdown",
   "metadata": {},
   "source": [
    "#### Removing punctuation"
   ]
  },
  {
   "cell_type": "code",
   "execution_count": 75,
   "metadata": {},
   "outputs": [],
   "source": [
    "# removing punctuations\n",
    "import string"
   ]
  },
  {
   "cell_type": "code",
   "execution_count": 76,
   "metadata": {},
   "outputs": [],
   "source": [
    "def remove_punctuations(text):\n",
    "    return [word for word in text if word not in string.punctuation]"
   ]
  },
  {
   "cell_type": "code",
   "execution_count": 77,
   "metadata": {},
   "outputs": [],
   "source": [
    "train['tokens1'] = train['tokens1'].apply(remove_punctuations)\n",
    "train['tokens2'] = train['tokens2'].apply(remove_punctuations)"
   ]
  },
  {
   "cell_type": "code",
   "execution_count": 259,
   "metadata": {},
   "outputs": [],
   "source": [
    "test['tokens1'] = test['tokens1'].apply(remove_punctuations)\n",
    "test['tokens2'] = test['tokens2'].apply(remove_punctuations)"
   ]
  },
  {
   "attachments": {},
   "cell_type": "markdown",
   "metadata": {},
   "source": [
    "#### Normalizing"
   ]
  },
  {
   "cell_type": "code",
   "execution_count": 78,
   "metadata": {},
   "outputs": [
    {
     "name": "stderr",
     "output_type": "stream",
     "text": [
      "[nltk_data] Downloading package wordnet to C:\\Users\\Verma\n",
      "[nltk_data]     Ashiyaan\\AppData\\Roaming\\nltk_data...\n",
      "[nltk_data]   Package wordnet is already up-to-date!\n"
     ]
    }
   ],
   "source": [
    "# normalization\n",
    "from nltk.stem import WordNetLemmatizer\n",
    "nltk.download('wordnet')\n",
    "\n",
    "lemmatizer = WordNetLemmatizer()"
   ]
  },
  {
   "cell_type": "code",
   "execution_count": 79,
   "metadata": {},
   "outputs": [],
   "source": [
    "def word_lemmatizer(text):\n",
    "    lem_text = [lemmatizer.lemmatize(i) for i in text]\n",
    "    return lem_text"
   ]
  },
  {
   "cell_type": "code",
   "execution_count": 80,
   "metadata": {},
   "outputs": [],
   "source": [
    "train['tokens1'] = train['tokens1'].apply(word_lemmatizer)\n",
    "train['tokens2'] = train['tokens2'].apply(word_lemmatizer)"
   ]
  },
  {
   "cell_type": "code",
   "execution_count": 260,
   "metadata": {},
   "outputs": [],
   "source": [
    "test['tokens1'] = test['tokens1'].apply(word_lemmatizer)\n",
    "test['tokens2'] = test['tokens2'].apply(word_lemmatizer)"
   ]
  },
  {
   "attachments": {},
   "cell_type": "markdown",
   "metadata": {},
   "source": [
    "#### Stemming"
   ]
  },
  {
   "cell_type": "code",
   "execution_count": 81,
   "metadata": {},
   "outputs": [],
   "source": [
    "# stemming\n",
    "from nltk.stem import PorterStemmer"
   ]
  },
  {
   "cell_type": "code",
   "execution_count": 82,
   "metadata": {},
   "outputs": [],
   "source": [
    "stemmer = PorterStemmer()\n",
    "\n",
    "def word_stemmer(text):\n",
    "    stem_text = \" \".join([stemmer.stem(i) for i in text])\n",
    "    return stem_text"
   ]
  },
  {
   "cell_type": "code",
   "execution_count": 83,
   "metadata": {},
   "outputs": [
    {
     "data": {
      "text/html": [
       "<div>\n",
       "<style scoped>\n",
       "    .dataframe tbody tr th:only-of-type {\n",
       "        vertical-align: middle;\n",
       "    }\n",
       "\n",
       "    .dataframe tbody tr th {\n",
       "        vertical-align: top;\n",
       "    }\n",
       "\n",
       "    .dataframe thead th {\n",
       "        text-align: right;\n",
       "    }\n",
       "</style>\n",
       "<table border=\"1\" class=\"dataframe\">\n",
       "  <thead>\n",
       "    <tr style=\"text-align: right;\">\n",
       "      <th></th>\n",
       "      <th>id</th>\n",
       "      <th>qid1</th>\n",
       "      <th>qid2</th>\n",
       "      <th>question1</th>\n",
       "      <th>question2</th>\n",
       "      <th>is_duplicate</th>\n",
       "      <th>tokens1</th>\n",
       "      <th>tokens2</th>\n",
       "    </tr>\n",
       "  </thead>\n",
       "  <tbody>\n",
       "    <tr>\n",
       "      <th>298900</th>\n",
       "      <td>298900</td>\n",
       "      <td>132471</td>\n",
       "      <td>44677</td>\n",
       "      <td>What are some lesser known facts about PM Nare...</td>\n",
       "      <td>What are some lesser known facts/incidents rel...</td>\n",
       "      <td>1</td>\n",
       "      <td>what lesser known fact pm narendra modi</td>\n",
       "      <td>what lesser known facts/incid relat narendra modi</td>\n",
       "    </tr>\n",
       "    <tr>\n",
       "      <th>101435</th>\n",
       "      <td>101435</td>\n",
       "      <td>168039</td>\n",
       "      <td>168040</td>\n",
       "      <td>How do I use PC's internet connection on Andro...</td>\n",
       "      <td>Can I use net on my Android phone from cable b...</td>\n",
       "      <td>0</td>\n",
       "      <td>how i use pc 's internet connect android phone...</td>\n",
       "      <td>can i use net android phone cabl broadband con...</td>\n",
       "    </tr>\n",
       "    <tr>\n",
       "      <th>349253</th>\n",
       "      <td>349253</td>\n",
       "      <td>226755</td>\n",
       "      <td>5914</td>\n",
       "      <td>How do you delete your Yahoo email account?</td>\n",
       "      <td>How can you delete your Yahoo mail account?</td>\n",
       "      <td>1</td>\n",
       "      <td>how delet yahoo email account</td>\n",
       "      <td>how delet yahoo mail account</td>\n",
       "    </tr>\n",
       "    <tr>\n",
       "      <th>68381</th>\n",
       "      <td>68381</td>\n",
       "      <td>118184</td>\n",
       "      <td>118185</td>\n",
       "      <td>What is the real world?</td>\n",
       "      <td>What is out there in the real world?</td>\n",
       "      <td>0</td>\n",
       "      <td>what real world</td>\n",
       "      <td>what real world</td>\n",
       "    </tr>\n",
       "    <tr>\n",
       "      <th>102409</th>\n",
       "      <td>102409</td>\n",
       "      <td>169441</td>\n",
       "      <td>169442</td>\n",
       "      <td>Why do artists/musicians/actors etc tend to be...</td>\n",
       "      <td>What is the future of left wing politics in In...</td>\n",
       "      <td>0</td>\n",
       "      <td>whi artists/musicians/actor etc tend left wing...</td>\n",
       "      <td>what futur left wing polit india</td>\n",
       "    </tr>\n",
       "  </tbody>\n",
       "</table>\n",
       "</div>"
      ],
      "text/plain": [
       "            id    qid1    qid2   \n",
       "298900  298900  132471   44677  \\\n",
       "101435  101435  168039  168040   \n",
       "349253  349253  226755    5914   \n",
       "68381    68381  118184  118185   \n",
       "102409  102409  169441  169442   \n",
       "\n",
       "                                                question1   \n",
       "298900  What are some lesser known facts about PM Nare...  \\\n",
       "101435  How do I use PC's internet connection on Andro...   \n",
       "349253        How do you delete your Yahoo email account?   \n",
       "68381                             What is the real world?   \n",
       "102409  Why do artists/musicians/actors etc tend to be...   \n",
       "\n",
       "                                                question2  is_duplicate   \n",
       "298900  What are some lesser known facts/incidents rel...             1  \\\n",
       "101435  Can I use net on my Android phone from cable b...             0   \n",
       "349253        How can you delete your Yahoo mail account?             1   \n",
       "68381                What is out there in the real world?             0   \n",
       "102409  What is the future of left wing politics in In...             0   \n",
       "\n",
       "                                                  tokens1   \n",
       "298900            what lesser known fact pm narendra modi  \\\n",
       "101435  how i use pc 's internet connect android phone...   \n",
       "349253                      how delet yahoo email account   \n",
       "68381                                     what real world   \n",
       "102409  whi artists/musicians/actor etc tend left wing...   \n",
       "\n",
       "                                                  tokens2  \n",
       "298900  what lesser known facts/incid relat narendra modi  \n",
       "101435  can i use net android phone cabl broadband con...  \n",
       "349253                       how delet yahoo mail account  \n",
       "68381                                     what real world  \n",
       "102409                   what futur left wing polit india  "
      ]
     },
     "execution_count": 83,
     "metadata": {},
     "output_type": "execute_result"
    }
   ],
   "source": [
    "train['tokens1'] = train['tokens1'].apply(word_stemmer)\n",
    "train['tokens2'] = train['tokens2'].apply(word_stemmer)\n",
    "\n",
    "train.head()"
   ]
  },
  {
   "cell_type": "code",
   "execution_count": 261,
   "metadata": {},
   "outputs": [],
   "source": [
    "test['tokens1'] = test['tokens1'].apply(word_stemmer)\n",
    "test['tokens2'] = test['tokens2'].apply(word_stemmer)"
   ]
  },
  {
   "attachments": {},
   "cell_type": "markdown",
   "metadata": {},
   "source": [
    "### Feature Engineering\n",
    "\n",
    "- tf-idf\n",
    "- word2vec\n",
    "- word count\n",
    "- number of the same words in both questions\n",
    "- ...."
   ]
  },
  {
   "cell_type": "code",
   "execution_count": 121,
   "metadata": {},
   "outputs": [],
   "source": [
    "# word2vec\n",
    "import multiprocessing\n",
    "from gensim.models import Word2Vec"
   ]
  },
  {
   "cell_type": "code",
   "execution_count": 122,
   "metadata": {},
   "outputs": [],
   "source": [
    "cores = multiprocessing.cpu_count() # Count the number of cores in a computer"
   ]
  },
  {
   "cell_type": "code",
   "execution_count": 265,
   "metadata": {},
   "outputs": [],
   "source": [
    "sentences = train['tokens1'].tolist() + train['tokens2'].tolist() + test['tokens1'].tolist() + test['tokens2'].tolist()"
   ]
  },
  {
   "cell_type": "code",
   "execution_count": 266,
   "metadata": {},
   "outputs": [],
   "source": [
    "# split the sentences into words\n",
    "sentences = [sentence.split() for sentence in sentences]"
   ]
  },
  {
   "cell_type": "code",
   "execution_count": 267,
   "metadata": {},
   "outputs": [],
   "source": [
    "w2v_model = Word2Vec(min_count=20,\n",
    "                     window=2,\n",
    "                     vector_size=300,\n",
    "                     sample=6e-5, \n",
    "                     alpha=0.03, \n",
    "                     min_alpha=0.0007, \n",
    "                     negative=20,\n",
    "                     workers=cores-1)"
   ]
  },
  {
   "cell_type": "code",
   "execution_count": 268,
   "metadata": {},
   "outputs": [],
   "source": [
    "w2v_model.build_vocab(sentences, progress_per=10000)\n",
    "w2v_model.train(sentences, total_examples=w2v_model.corpus_count, epochs=30, report_delay=1)\n",
    "\n",
    "# save model\n",
    "w2v_model.save(\"ques.model\")"
   ]
  },
  {
   "attachments": {},
   "cell_type": "markdown",
   "metadata": {},
   "source": [
    "#### Wordcount"
   ]
  },
  {
   "cell_type": "code",
   "execution_count": 206,
   "metadata": {},
   "outputs": [],
   "source": [
    "# word counts for question1 and question2\n",
    "train['count1'] = train['question1'].apply(lambda x: len(x))\n",
    "train['count2'] = train['question2'].apply(lambda x: len(x))"
   ]
  },
  {
   "cell_type": "code",
   "execution_count": 272,
   "metadata": {},
   "outputs": [],
   "source": [
    "test['count1'] = test['question1'].apply(lambda x: len(x))\n",
    "test['count2'] = test['question2'].apply(lambda x: len(x))"
   ]
  },
  {
   "cell_type": "code",
   "execution_count": 270,
   "metadata": {},
   "outputs": [
    {
     "data": {
      "text/plain": [
       "Index(['id', 'qid1', 'qid2', 'question1', 'question2', 'is_duplicate',\n",
       "       'tokens1', 'tokens2'],\n",
       "      dtype='object')"
      ]
     },
     "execution_count": 270,
     "metadata": {},
     "output_type": "execute_result"
    }
   ],
   "source": [
    "test.columns"
   ]
  },
  {
   "attachments": {},
   "cell_type": "markdown",
   "metadata": {},
   "source": [
    "#### Same Words"
   ]
  },
  {
   "cell_type": "code",
   "execution_count": 207,
   "metadata": {},
   "outputs": [],
   "source": [
    "# common words in tokens\n",
    "def common_words(row):\n",
    "    return len(set(row['tokens1']).intersection(set(row['tokens2'])))\n",
    "train['common_words_tokens'] = train.apply(common_words, axis=1)"
   ]
  },
  {
   "cell_type": "code",
   "execution_count": 273,
   "metadata": {},
   "outputs": [],
   "source": [
    "# common words in tokens\n",
    "def common_words(row):\n",
    "    return len(set(row['tokens1']).intersection(set(row['tokens2'])))\n",
    "test['common_words_tokens'] = test.apply(common_words, axis=1)"
   ]
  },
  {
   "attachments": {},
   "cell_type": "markdown",
   "metadata": {},
   "source": [
    "#### Similarity of the questions"
   ]
  },
  {
   "cell_type": "code",
   "execution_count": 214,
   "metadata": {},
   "outputs": [],
   "source": [
    "import numpy as np\n",
    "from gensim.models import Word2Vec"
   ]
  },
  {
   "cell_type": "code",
   "execution_count": 244,
   "metadata": {},
   "outputs": [],
   "source": [
    "# average cosine similarity(question1, question2, model)\n",
    "def avg_cosine_similarity(s1,s2,model):\n",
    "    q1 = s1\n",
    "    q2 = s2\n",
    "    q1_vec = np.zeros(300)\n",
    "    q2_vec = np.zeros(300)\n",
    "    for word in q1:\n",
    "        if word in model.wv:\n",
    "            q1_vec += model.wv[word]\n",
    "    for word in q2:\n",
    "        if word in model.wv:\n",
    "            q2_vec += model.wv[word]\n",
    "    return np.dot(q1_vec, q2_vec)/(np.linalg.norm(q1_vec)*np.linalg.norm(q2_vec))\n"
   ]
  },
  {
   "cell_type": "code",
   "execution_count": 232,
   "metadata": {},
   "outputs": [],
   "source": [
    "# Load the Word2Vec model\n",
    "w2v_model = Word2Vec.load(\"ques.model\")"
   ]
  },
  {
   "cell_type": "code",
   "execution_count": 245,
   "metadata": {},
   "outputs": [
    {
     "name": "stderr",
     "output_type": "stream",
     "text": [
      "C:\\Users\\Verma Ashiyaan\\AppData\\Local\\Temp\\ipykernel_9728\\1910955309.py:13: RuntimeWarning: invalid value encountered in double_scalars\n",
      "  return np.dot(q1_vec, q2_vec)/(np.linalg.norm(q1_vec)*np.linalg.norm(q2_vec))\n"
     ]
    }
   ],
   "source": [
    "# calculate cosine similarity for tokens1 and tokens2\n",
    "train['cosine_similarity_tokens'] = train.apply(lambda x: avg_cosine_similarity(x['tokens1'], x['tokens2'], w2v_model), axis=1)"
   ]
  },
  {
   "cell_type": "code",
   "execution_count": 274,
   "metadata": {},
   "outputs": [
    {
     "name": "stderr",
     "output_type": "stream",
     "text": [
      "C:\\Users\\Verma Ashiyaan\\AppData\\Local\\Temp\\ipykernel_9728\\1910955309.py:13: RuntimeWarning: invalid value encountered in double_scalars\n",
      "  return np.dot(q1_vec, q2_vec)/(np.linalg.norm(q1_vec)*np.linalg.norm(q2_vec))\n"
     ]
    }
   ],
   "source": [
    "test['cosine_similarity_tokens'] = test.apply(lambda x: avg_cosine_similarity(x['tokens1'], x['tokens2'], w2v_model), axis=1)"
   ]
  },
  {
   "cell_type": "code",
   "execution_count": 275,
   "metadata": {},
   "outputs": [],
   "source": [
    "# fill all null values with 0\n",
    "train = train.fillna(0)\n",
    "test = test.fillna(0)"
   ]
  },
  {
   "cell_type": "code",
   "execution_count": 248,
   "metadata": {},
   "outputs": [
    {
     "data": {
      "text/html": [
       "<div>\n",
       "<style scoped>\n",
       "    .dataframe tbody tr th:only-of-type {\n",
       "        vertical-align: middle;\n",
       "    }\n",
       "\n",
       "    .dataframe tbody tr th {\n",
       "        vertical-align: top;\n",
       "    }\n",
       "\n",
       "    .dataframe thead th {\n",
       "        text-align: right;\n",
       "    }\n",
       "</style>\n",
       "<table border=\"1\" class=\"dataframe\">\n",
       "  <thead>\n",
       "    <tr style=\"text-align: right;\">\n",
       "      <th></th>\n",
       "      <th>id</th>\n",
       "      <th>qid1</th>\n",
       "      <th>qid2</th>\n",
       "      <th>question1</th>\n",
       "      <th>question2</th>\n",
       "      <th>is_duplicate</th>\n",
       "      <th>tokens1</th>\n",
       "      <th>tokens2</th>\n",
       "      <th>sentences1</th>\n",
       "      <th>sentences2</th>\n",
       "      <th>common_words</th>\n",
       "      <th>count1</th>\n",
       "      <th>count2</th>\n",
       "      <th>cosine_similarity</th>\n",
       "      <th>count3</th>\n",
       "      <th>count4</th>\n",
       "      <th>common_words_tokens</th>\n",
       "      <th>cosine_similarity_tokens</th>\n",
       "    </tr>\n",
       "  </thead>\n",
       "  <tbody>\n",
       "    <tr>\n",
       "      <th>368134</th>\n",
       "      <td>368134</td>\n",
       "      <td>498482</td>\n",
       "      <td>382658</td>\n",
       "      <td>How do I get my crush out of my head?</td>\n",
       "      <td>How do I stop thinking about my crush?</td>\n",
       "      <td>0</td>\n",
       "      <td>how i get crush head</td>\n",
       "      <td>how i stop think crush</td>\n",
       "      <td>[how, i, get, crush, head]</td>\n",
       "      <td>[how, i, stop, think, crush]</td>\n",
       "      <td>3</td>\n",
       "      <td>5</td>\n",
       "      <td>5</td>\n",
       "      <td>0.960139</td>\n",
       "      <td>37</td>\n",
       "      <td>38</td>\n",
       "      <td>10</td>\n",
       "      <td>0.919710</td>\n",
       "    </tr>\n",
       "    <tr>\n",
       "      <th>218074</th>\n",
       "      <td>218074</td>\n",
       "      <td>324574</td>\n",
       "      <td>20236</td>\n",
       "      <td>What are the advantages and disadvantages of d...</td>\n",
       "      <td>Which phone has the best camera?</td>\n",
       "      <td>0</td>\n",
       "      <td>what advantag disadvantag dual camera like hua...</td>\n",
       "      <td>which phone best camera</td>\n",
       "      <td>[what, advantag, disadvantag, dual, camera, li...</td>\n",
       "      <td>[which, phone, best, camera]</td>\n",
       "      <td>1</td>\n",
       "      <td>20</td>\n",
       "      <td>4</td>\n",
       "      <td>0.963582</td>\n",
       "      <td>168</td>\n",
       "      <td>32</td>\n",
       "      <td>14</td>\n",
       "      <td>0.952424</td>\n",
       "    </tr>\n",
       "    <tr>\n",
       "      <th>198619</th>\n",
       "      <td>198619</td>\n",
       "      <td>45803</td>\n",
       "      <td>167589</td>\n",
       "      <td>How well can Japanese people understand writte...</td>\n",
       "      <td>Can native Japanese understand written Chinese?</td>\n",
       "      <td>0</td>\n",
       "      <td>how well japanes peopl understand written chin...</td>\n",
       "      <td>can nativ japanes understand written chines</td>\n",
       "      <td>[how, well, japanes, peopl, understand, writte...</td>\n",
       "      <td>[can, nativ, japanes, understand, written, chi...</td>\n",
       "      <td>4</td>\n",
       "      <td>9</td>\n",
       "      <td>6</td>\n",
       "      <td>0.983513</td>\n",
       "      <td>72</td>\n",
       "      <td>47</td>\n",
       "      <td>16</td>\n",
       "      <td>0.971947</td>\n",
       "    </tr>\n",
       "    <tr>\n",
       "      <th>338694</th>\n",
       "      <td>338694</td>\n",
       "      <td>182987</td>\n",
       "      <td>67279</td>\n",
       "      <td>Can any state secede from United States?</td>\n",
       "      <td>Why is it impossible for a state to secede fro...</td>\n",
       "      <td>1</td>\n",
       "      <td>can state seced unit state</td>\n",
       "      <td>whi imposs state seced union</td>\n",
       "      <td>[can, state, seced, unit, state]</td>\n",
       "      <td>[whi, imposs, state, seced, union]</td>\n",
       "      <td>2</td>\n",
       "      <td>5</td>\n",
       "      <td>5</td>\n",
       "      <td>0.974570</td>\n",
       "      <td>40</td>\n",
       "      <td>58</td>\n",
       "      <td>10</td>\n",
       "      <td>0.951140</td>\n",
       "    </tr>\n",
       "    <tr>\n",
       "      <th>214657</th>\n",
       "      <td>214657</td>\n",
       "      <td>320308</td>\n",
       "      <td>320309</td>\n",
       "      <td>What's your favourite Christmas carol? Why?</td>\n",
       "      <td>What's your favorite Christmas carol?</td>\n",
       "      <td>1</td>\n",
       "      <td>what 's favourit christma carol whi</td>\n",
       "      <td>what 's favorit christma carol</td>\n",
       "      <td>[what, 's, favourit, christma, carol, whi]</td>\n",
       "      <td>[what, 's, favorit, christma, carol]</td>\n",
       "      <td>4</td>\n",
       "      <td>6</td>\n",
       "      <td>5</td>\n",
       "      <td>0.996188</td>\n",
       "      <td>43</td>\n",
       "      <td>37</td>\n",
       "      <td>15</td>\n",
       "      <td>0.994943</td>\n",
       "    </tr>\n",
       "  </tbody>\n",
       "</table>\n",
       "</div>"
      ],
      "text/plain": [
       "            id    qid1    qid2   \n",
       "368134  368134  498482  382658  \\\n",
       "218074  218074  324574   20236   \n",
       "198619  198619   45803  167589   \n",
       "338694  338694  182987   67279   \n",
       "214657  214657  320308  320309   \n",
       "\n",
       "                                                question1   \n",
       "368134              How do I get my crush out of my head?  \\\n",
       "218074  What are the advantages and disadvantages of d...   \n",
       "198619  How well can Japanese people understand writte...   \n",
       "338694           Can any state secede from United States?   \n",
       "214657        What's your favourite Christmas carol? Why?   \n",
       "\n",
       "                                                question2  is_duplicate   \n",
       "368134             How do I stop thinking about my crush?             0  \\\n",
       "218074                   Which phone has the best camera?             0   \n",
       "198619    Can native Japanese understand written Chinese?             0   \n",
       "338694  Why is it impossible for a state to secede fro...             1   \n",
       "214657              What's your favorite Christmas carol?             1   \n",
       "\n",
       "                                                  tokens1   \n",
       "368134                               how i get crush head  \\\n",
       "218074  what advantag disadvantag dual camera like hua...   \n",
       "198619  how well japanes peopl understand written chin...   \n",
       "338694                         can state seced unit state   \n",
       "214657                what 's favourit christma carol whi   \n",
       "\n",
       "                                            tokens2   \n",
       "368134                       how i stop think crush  \\\n",
       "218074                      which phone best camera   \n",
       "198619  can nativ japanes understand written chines   \n",
       "338694                 whi imposs state seced union   \n",
       "214657               what 's favorit christma carol   \n",
       "\n",
       "                                               sentences1   \n",
       "368134                         [how, i, get, crush, head]  \\\n",
       "218074  [what, advantag, disadvantag, dual, camera, li...   \n",
       "198619  [how, well, japanes, peopl, understand, writte...   \n",
       "338694                   [can, state, seced, unit, state]   \n",
       "214657         [what, 's, favourit, christma, carol, whi]   \n",
       "\n",
       "                                               sentences2  common_words   \n",
       "368134                       [how, i, stop, think, crush]             3  \\\n",
       "218074                       [which, phone, best, camera]             1   \n",
       "198619  [can, nativ, japanes, understand, written, chi...             4   \n",
       "338694                 [whi, imposs, state, seced, union]             2   \n",
       "214657               [what, 's, favorit, christma, carol]             4   \n",
       "\n",
       "        count1  count2  cosine_similarity  count3  count4   \n",
       "368134       5       5           0.960139      37      38  \\\n",
       "218074      20       4           0.963582     168      32   \n",
       "198619       9       6           0.983513      72      47   \n",
       "338694       5       5           0.974570      40      58   \n",
       "214657       6       5           0.996188      43      37   \n",
       "\n",
       "        common_words_tokens  cosine_similarity_tokens  \n",
       "368134                   10                  0.919710  \n",
       "218074                   14                  0.952424  \n",
       "198619                   16                  0.971947  \n",
       "338694                   10                  0.951140  \n",
       "214657                   15                  0.994943  "
      ]
     },
     "execution_count": 248,
     "metadata": {},
     "output_type": "execute_result"
    }
   ],
   "source": [
    "# select values where is_duplicate = 1\n",
    "train.sample(5)"
   ]
  },
  {
   "attachments": {},
   "cell_type": "markdown",
   "metadata": {},
   "source": [
    "### Modeling\n",
    "\n",
    "Different modeling techniques can be used:\n",
    "\n",
    "- logistic regression\n",
    "- XGBoost\n",
    "- LSTMs\n",
    "- etc"
   ]
  },
  {
   "attachments": {},
   "cell_type": "markdown",
   "metadata": {},
   "source": [
    "#### Logistic Regression"
   ]
  },
  {
   "cell_type": "code",
   "execution_count": 283,
   "metadata": {},
   "outputs": [
    {
     "data": {
      "text/plain": [
       "Index(['id', 'qid1', 'qid2', 'question1', 'question2', 'is_duplicate',\n",
       "       'tokens1', 'tokens2', 'count1', 'count2', 'common_words_tokens',\n",
       "       'cosine_similarity_tokens'],\n",
       "      dtype='object')"
      ]
     },
     "execution_count": 283,
     "metadata": {},
     "output_type": "execute_result"
    }
   ],
   "source": [
    "# drop column common_words\n",
    "train.columns"
   ]
  },
  {
   "cell_type": "code",
   "execution_count": 281,
   "metadata": {},
   "outputs": [
    {
     "data": {
      "text/plain": [
       "Index(['id', 'qid1', 'qid2', 'question1', 'question2', 'is_duplicate',\n",
       "       'tokens1', 'tokens2', 'count1', 'count2', 'common_words_tokens',\n",
       "       'cosine_similarity_tokens'],\n",
       "      dtype='object')"
      ]
     },
     "execution_count": 281,
     "metadata": {},
     "output_type": "execute_result"
    }
   ],
   "source": [
    "test.columns"
   ]
  },
  {
   "cell_type": "code",
   "execution_count": 285,
   "metadata": {},
   "outputs": [],
   "source": [
    "X = train[['count1', 'count2', 'common_words_tokens', 'cosine_similarity_tokens']]\n",
    "y = train['is_duplicate']"
   ]
  },
  {
   "cell_type": "code",
   "execution_count": 286,
   "metadata": {},
   "outputs": [],
   "source": [
    "# train test split\n",
    "X_train, X_test, y_train, y_test = train_test_split(X, y, stratify=y, test_size=0.2)"
   ]
  },
  {
   "cell_type": "code",
   "execution_count": 290,
   "metadata": {},
   "outputs": [],
   "source": [
    "# logistic regression\n",
    "from sklearn.linear_model import LogisticRegression\n",
    "\n",
    "logreg = LogisticRegression()\n",
    "logreg.fit(X_train, y_train)\n",
    "\n",
    "y_pred_lr = logreg.predict(X_test)"
   ]
  },
  {
   "cell_type": "code",
   "execution_count": 291,
   "metadata": {},
   "outputs": [
    {
     "data": {
      "text/plain": [
       "0.664811551185728"
      ]
     },
     "execution_count": 291,
     "metadata": {},
     "output_type": "execute_result"
    }
   ],
   "source": [
    "# accuracy\n",
    "from sklearn.metrics import accuracy_score\n",
    "\n",
    "accuracy_score(y_test, y_pred_lr)"
   ]
  },
  {
   "attachments": {},
   "cell_type": "markdown",
   "metadata": {},
   "source": [
    "#### XGBoost"
   ]
  },
  {
   "cell_type": "code",
   "execution_count": 292,
   "metadata": {},
   "outputs": [
    {
     "data": {
      "text/plain": [
       "0.6833472466994404"
      ]
     },
     "execution_count": 292,
     "metadata": {},
     "output_type": "execute_result"
    }
   ],
   "source": [
    "# xgboost\n",
    "from xgboost import XGBClassifier\n",
    "\n",
    "xgb = XGBClassifier()\n",
    "xgb.fit(X_train, y_train)\n",
    "\n",
    "y_pred_xg = xgb.predict(X_test)\n",
    "\n",
    "accuracy_score(y_test, y_pred_xg)"
   ]
  },
  {
   "attachments": {},
   "cell_type": "markdown",
   "metadata": {},
   "source": [
    "#### Test Accuracy"
   ]
  },
  {
   "cell_type": "code",
   "execution_count": 294,
   "metadata": {},
   "outputs": [
    {
     "name": "stdout",
     "output_type": "stream",
     "text": [
      "LogisticRegression accuracy:  0.6323431200375967\n",
      "XGBoost accuracy:  0.6601696801800687\n"
     ]
    }
   ],
   "source": [
    "X1 = test[['count1', 'count2', 'common_words_tokens', 'cosine_similarity_tokens']]\n",
    "y1 = test['is_duplicate']\n",
    "\n",
    "y_pred_lr1 = logreg.predict(X1)\n",
    "\n",
    "print(\"LogisticRegression accuracy: \", accuracy_score(y1, y_pred_lr1))\n",
    "\n",
    "y_pred_xg1 = xgb.predict(X1)\n",
    "\n",
    "print(\"XGBoost accuracy: \", accuracy_score(y1, y_pred_xg1))"
   ]
  },
  {
   "cell_type": "code",
   "execution_count": null,
   "metadata": {},
   "outputs": [],
   "source": []
  }
 ],
 "metadata": {
  "kernelspec": {
   "display_name": "test_env",
   "language": "python",
   "name": "test_env"
  },
  "language_info": {
   "codemirror_mode": {
    "name": "ipython",
    "version": 3
   },
   "file_extension": ".py",
   "mimetype": "text/x-python",
   "name": "python",
   "nbconvert_exporter": "python",
   "pygments_lexer": "ipython3",
   "version": "3.9.13"
  }
 },
 "nbformat": 4,
 "nbformat_minor": 4
}
