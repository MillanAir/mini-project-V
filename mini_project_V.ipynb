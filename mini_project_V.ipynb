{
 "cells": [
  {
   "attachments": {},
   "cell_type": "markdown",
   "metadata": {},
   "source": [
    "## Identifying Duplicate Questions"
   ]
  },
  {
   "attachments": {},
   "cell_type": "markdown",
   "metadata": {},
   "source": [
    "Over 100 million people visit Quora every month, so it's no surprise that many people ask similar (or the same) questions. Various questions with the same intent can cause people to spend extra time searching for the best answer to their question, and results in members answering multiple versions of the same question. Quora uses random forest to identify duplicated questions to provide a better experience to active seekers and writers, and offer more value to both of these groups in the long term.\n",
    "Follow the steps outlined below to build the appropriate classifier model. \n",
    "\n",
    "\n",
    "Steps:\n",
    "- Download data\n",
    "- Exploration\n",
    "- Cleaning\n",
    "- Feature Engineering\n",
    "- Modeling\n",
    "\n",
    "By the end of this project you should have **a presentation that describes the model you built** and its **performance**. \n"
   ]
  },
  {
   "cell_type": "code",
   "execution_count": 59,
   "metadata": {},
   "outputs": [],
   "source": [
    "import pandas as pd"
   ]
  },
  {
   "attachments": {},
   "cell_type": "markdown",
   "metadata": {},
   "source": [
    "Link for the data<br/>\n",
    "`https://drive.google.com/file/d/19iWVGLBi7edqybybam56bt2Zy7vpf1Xc/view?usp=sharing`"
   ]
  },
  {
   "cell_type": "code",
   "execution_count": 60,
   "metadata": {},
   "outputs": [],
   "source": [
    "df = pd.read_csv(\"./data/train.csv\")"
   ]
  },
  {
   "attachments": {},
   "cell_type": "markdown",
   "metadata": {},
   "source": [
    "#### Note\n",
    "There is no designated test.csv file. The train.csv file is the entire dataset. Part of the data in the train.csv file should be set aside to act as the final testing data."
   ]
  },
  {
   "cell_type": "code",
   "execution_count": 61,
   "metadata": {},
   "outputs": [],
   "source": [
    "from sklearn.model_selection import train_test_split"
   ]
  },
  {
   "cell_type": "code",
   "execution_count": 62,
   "metadata": {},
   "outputs": [],
   "source": [
    "train, test = train_test_split(df, test_size=0.2)"
   ]
  },
  {
   "attachments": {},
   "cell_type": "markdown",
   "metadata": {},
   "source": [
    "### Exploration"
   ]
  },
  {
   "cell_type": "code",
   "execution_count": 63,
   "metadata": {},
   "outputs": [
    {
     "name": "stdout",
     "output_type": "stream",
     "text": [
      "Shape of the data:  (323432, 6)\n",
      "id               int64\n",
      "qid1             int64\n",
      "qid2             int64\n",
      "question1       object\n",
      "question2       object\n",
      "is_duplicate     int64\n",
      "dtype: object\n"
     ]
    }
   ],
   "source": [
    "print(\"Shape of the data: \", train.shape)\n",
    "print(df.dtypes)"
   ]
  },
  {
   "cell_type": "code",
   "execution_count": 64,
   "metadata": {},
   "outputs": [
    {
     "data": {
      "text/html": [
       "<div>\n",
       "<style scoped>\n",
       "    .dataframe tbody tr th:only-of-type {\n",
       "        vertical-align: middle;\n",
       "    }\n",
       "\n",
       "    .dataframe tbody tr th {\n",
       "        vertical-align: top;\n",
       "    }\n",
       "\n",
       "    .dataframe thead th {\n",
       "        text-align: right;\n",
       "    }\n",
       "</style>\n",
       "<table border=\"1\" class=\"dataframe\">\n",
       "  <thead>\n",
       "    <tr style=\"text-align: right;\">\n",
       "      <th></th>\n",
       "      <th>id</th>\n",
       "      <th>qid1</th>\n",
       "      <th>qid2</th>\n",
       "      <th>question1</th>\n",
       "      <th>question2</th>\n",
       "      <th>is_duplicate</th>\n",
       "    </tr>\n",
       "  </thead>\n",
       "  <tbody>\n",
       "    <tr>\n",
       "      <th>241057</th>\n",
       "      <td>241057</td>\n",
       "      <td>9769</td>\n",
       "      <td>353008</td>\n",
       "      <td>Which is the best speech you ever heard?</td>\n",
       "      <td>What are some of the best speeches you have he...</td>\n",
       "      <td>1</td>\n",
       "    </tr>\n",
       "    <tr>\n",
       "      <th>138612</th>\n",
       "      <td>138612</td>\n",
       "      <td>214731</td>\n",
       "      <td>220679</td>\n",
       "      <td>Did Joseph Goebbels read many books?</td>\n",
       "      <td>Was Joseph Goebbels an avid reader?</td>\n",
       "      <td>1</td>\n",
       "    </tr>\n",
       "    <tr>\n",
       "      <th>139988</th>\n",
       "      <td>139988</td>\n",
       "      <td>21863</td>\n",
       "      <td>222535</td>\n",
       "      <td>How do I tell her I love her?</td>\n",
       "      <td>How do I tell her I don't love her the way she...</td>\n",
       "      <td>0</td>\n",
       "    </tr>\n",
       "    <tr>\n",
       "      <th>29069</th>\n",
       "      <td>29069</td>\n",
       "      <td>39192</td>\n",
       "      <td>1296</td>\n",
       "      <td>What happens if you burn 1000 calories a day?</td>\n",
       "      <td>Is it possible to burn 1000 calories each day?...</td>\n",
       "      <td>0</td>\n",
       "    </tr>\n",
       "    <tr>\n",
       "      <th>51205</th>\n",
       "      <td>51205</td>\n",
       "      <td>90866</td>\n",
       "      <td>90867</td>\n",
       "      <td>How much Oxygen does an average person need in...</td>\n",
       "      <td>How many hairs does the average person lose pe...</td>\n",
       "      <td>0</td>\n",
       "    </tr>\n",
       "  </tbody>\n",
       "</table>\n",
       "</div>"
      ],
      "text/plain": [
       "            id    qid1    qid2   \n",
       "241057  241057    9769  353008  \\\n",
       "138612  138612  214731  220679   \n",
       "139988  139988   21863  222535   \n",
       "29069    29069   39192    1296   \n",
       "51205    51205   90866   90867   \n",
       "\n",
       "                                                question1   \n",
       "241057           Which is the best speech you ever heard?  \\\n",
       "138612               Did Joseph Goebbels read many books?   \n",
       "139988                      How do I tell her I love her?   \n",
       "29069       What happens if you burn 1000 calories a day?   \n",
       "51205   How much Oxygen does an average person need in...   \n",
       "\n",
       "                                                question2  is_duplicate  \n",
       "241057  What are some of the best speeches you have he...             1  \n",
       "138612                Was Joseph Goebbels an avid reader?             1  \n",
       "139988  How do I tell her I don't love her the way she...             0  \n",
       "29069   Is it possible to burn 1000 calories each day?...             0  \n",
       "51205   How many hairs does the average person lose pe...             0  "
      ]
     },
     "execution_count": 64,
     "metadata": {},
     "output_type": "execute_result"
    }
   ],
   "source": [
    "train.sample(5)"
   ]
  },
  {
   "cell_type": "code",
   "execution_count": 65,
   "metadata": {},
   "outputs": [
    {
     "data": {
      "text/html": [
       "<div>\n",
       "<style scoped>\n",
       "    .dataframe tbody tr th:only-of-type {\n",
       "        vertical-align: middle;\n",
       "    }\n",
       "\n",
       "    .dataframe tbody tr th {\n",
       "        vertical-align: top;\n",
       "    }\n",
       "\n",
       "    .dataframe thead th {\n",
       "        text-align: right;\n",
       "    }\n",
       "</style>\n",
       "<table border=\"1\" class=\"dataframe\">\n",
       "  <thead>\n",
       "    <tr style=\"text-align: right;\">\n",
       "      <th></th>\n",
       "      <th>id</th>\n",
       "      <th>qid1</th>\n",
       "      <th>qid2</th>\n",
       "      <th>is_duplicate</th>\n",
       "    </tr>\n",
       "  </thead>\n",
       "  <tbody>\n",
       "    <tr>\n",
       "      <th>count</th>\n",
       "      <td>323432.000000</td>\n",
       "      <td>323432.000000</td>\n",
       "      <td>323432.000000</td>\n",
       "      <td>323432.000000</td>\n",
       "    </tr>\n",
       "    <tr>\n",
       "      <th>mean</th>\n",
       "      <td>201901.858684</td>\n",
       "      <td>216926.058362</td>\n",
       "      <td>220689.600911</td>\n",
       "      <td>0.369583</td>\n",
       "    </tr>\n",
       "    <tr>\n",
       "      <th>std</th>\n",
       "      <td>116707.119368</td>\n",
       "      <td>157660.428282</td>\n",
       "      <td>159743.675875</td>\n",
       "      <td>0.482693</td>\n",
       "    </tr>\n",
       "    <tr>\n",
       "      <th>min</th>\n",
       "      <td>0.000000</td>\n",
       "      <td>1.000000</td>\n",
       "      <td>2.000000</td>\n",
       "      <td>0.000000</td>\n",
       "    </tr>\n",
       "    <tr>\n",
       "      <th>25%</th>\n",
       "      <td>100755.750000</td>\n",
       "      <td>74188.500000</td>\n",
       "      <td>74605.000000</td>\n",
       "      <td>0.000000</td>\n",
       "    </tr>\n",
       "    <tr>\n",
       "      <th>50%</th>\n",
       "      <td>201786.000000</td>\n",
       "      <td>191692.000000</td>\n",
       "      <td>196778.000000</td>\n",
       "      <td>0.000000</td>\n",
       "    </tr>\n",
       "    <tr>\n",
       "      <th>75%</th>\n",
       "      <td>302920.250000</td>\n",
       "      <td>346065.000000</td>\n",
       "      <td>353930.750000</td>\n",
       "      <td>1.000000</td>\n",
       "    </tr>\n",
       "    <tr>\n",
       "      <th>max</th>\n",
       "      <td>404288.000000</td>\n",
       "      <td>537930.000000</td>\n",
       "      <td>537931.000000</td>\n",
       "      <td>1.000000</td>\n",
       "    </tr>\n",
       "  </tbody>\n",
       "</table>\n",
       "</div>"
      ],
      "text/plain": [
       "                  id           qid1           qid2   is_duplicate\n",
       "count  323432.000000  323432.000000  323432.000000  323432.000000\n",
       "mean   201901.858684  216926.058362  220689.600911       0.369583\n",
       "std    116707.119368  157660.428282  159743.675875       0.482693\n",
       "min         0.000000       1.000000       2.000000       0.000000\n",
       "25%    100755.750000   74188.500000   74605.000000       0.000000\n",
       "50%    201786.000000  191692.000000  196778.000000       0.000000\n",
       "75%    302920.250000  346065.000000  353930.750000       1.000000\n",
       "max    404288.000000  537930.000000  537931.000000       1.000000"
      ]
     },
     "execution_count": 65,
     "metadata": {},
     "output_type": "execute_result"
    }
   ],
   "source": [
    "train.describe()"
   ]
  },
  {
   "cell_type": "code",
   "execution_count": 66,
   "metadata": {},
   "outputs": [
    {
     "data": {
      "text/plain": [
       "id              0\n",
       "qid1            0\n",
       "qid2            0\n",
       "question1       1\n",
       "question2       2\n",
       "is_duplicate    0\n",
       "dtype: int64"
      ]
     },
     "execution_count": 66,
     "metadata": {},
     "output_type": "execute_result"
    }
   ],
   "source": [
    "train.isnull().sum()"
   ]
  },
  {
   "cell_type": "code",
   "execution_count": 67,
   "metadata": {},
   "outputs": [],
   "source": [
    "# remove null values\n",
    "train = train.dropna()"
   ]
  },
  {
   "cell_type": "code",
   "execution_count": 68,
   "metadata": {},
   "outputs": [
    {
     "data": {
      "text/plain": [
       "id              0\n",
       "qid1            0\n",
       "qid2            0\n",
       "question1       0\n",
       "question2       0\n",
       "is_duplicate    0\n",
       "dtype: int64"
      ]
     },
     "execution_count": 68,
     "metadata": {},
     "output_type": "execute_result"
    }
   ],
   "source": [
    "train.isnull().sum()"
   ]
  },
  {
   "cell_type": "code",
   "execution_count": 69,
   "metadata": {},
   "outputs": [
    {
     "data": {
      "text/plain": [
       "(323429, 6)"
      ]
     },
     "execution_count": 69,
     "metadata": {},
     "output_type": "execute_result"
    }
   ],
   "source": [
    "train.shape"
   ]
  },
  {
   "attachments": {},
   "cell_type": "markdown",
   "metadata": {},
   "source": [
    "### Cleaning\n",
    "\n",
    "- Tokenization\n",
    "- Stopwords cleaning\n",
    "- Removing punctuation\n",
    "- Normalizing\n",
    "- Stemming"
   ]
  },
  {
   "attachments": {},
   "cell_type": "markdown",
   "metadata": {},
   "source": [
    "#### Tokenization"
   ]
  },
  {
   "cell_type": "code",
   "execution_count": 70,
   "metadata": {},
   "outputs": [
    {
     "name": "stderr",
     "output_type": "stream",
     "text": [
      "[nltk_data] Downloading package punkt to C:\\Users\\Verma\n",
      "[nltk_data]     Ashiyaan\\AppData\\Roaming\\nltk_data...\n",
      "[nltk_data]   Package punkt is already up-to-date!\n"
     ]
    },
    {
     "data": {
      "text/plain": [
       "True"
      ]
     },
     "execution_count": 70,
     "metadata": {},
     "output_type": "execute_result"
    }
   ],
   "source": [
    "# tokenization\n",
    "import nltk\n",
    "from nltk.tokenize import word_tokenize\n",
    "nltk.download('punkt')"
   ]
  },
  {
   "cell_type": "code",
   "execution_count": 71,
   "metadata": {},
   "outputs": [
    {
     "data": {
      "text/html": [
       "<div>\n",
       "<style scoped>\n",
       "    .dataframe tbody tr th:only-of-type {\n",
       "        vertical-align: middle;\n",
       "    }\n",
       "\n",
       "    .dataframe tbody tr th {\n",
       "        vertical-align: top;\n",
       "    }\n",
       "\n",
       "    .dataframe thead th {\n",
       "        text-align: right;\n",
       "    }\n",
       "</style>\n",
       "<table border=\"1\" class=\"dataframe\">\n",
       "  <thead>\n",
       "    <tr style=\"text-align: right;\">\n",
       "      <th></th>\n",
       "      <th>id</th>\n",
       "      <th>qid1</th>\n",
       "      <th>qid2</th>\n",
       "      <th>question1</th>\n",
       "      <th>question2</th>\n",
       "      <th>is_duplicate</th>\n",
       "      <th>tokens1</th>\n",
       "      <th>tokens2</th>\n",
       "    </tr>\n",
       "  </thead>\n",
       "  <tbody>\n",
       "    <tr>\n",
       "      <th>298900</th>\n",
       "      <td>298900</td>\n",
       "      <td>132471</td>\n",
       "      <td>44677</td>\n",
       "      <td>What are some lesser known facts about PM Nare...</td>\n",
       "      <td>What are some lesser known facts/incidents rel...</td>\n",
       "      <td>1</td>\n",
       "      <td>[What, are, some, lesser, known, facts, about,...</td>\n",
       "      <td>[What, are, some, lesser, known, facts/inciden...</td>\n",
       "    </tr>\n",
       "    <tr>\n",
       "      <th>101435</th>\n",
       "      <td>101435</td>\n",
       "      <td>168039</td>\n",
       "      <td>168040</td>\n",
       "      <td>How do I use PC's internet connection on Andro...</td>\n",
       "      <td>Can I use net on my Android phone from cable b...</td>\n",
       "      <td>0</td>\n",
       "      <td>[How, do, I, use, PC, 's, internet, connection...</td>\n",
       "      <td>[Can, I, use, net, on, my, Android, phone, fro...</td>\n",
       "    </tr>\n",
       "    <tr>\n",
       "      <th>349253</th>\n",
       "      <td>349253</td>\n",
       "      <td>226755</td>\n",
       "      <td>5914</td>\n",
       "      <td>How do you delete your Yahoo email account?</td>\n",
       "      <td>How can you delete your Yahoo mail account?</td>\n",
       "      <td>1</td>\n",
       "      <td>[How, do, you, delete, your, Yahoo, email, acc...</td>\n",
       "      <td>[How, can, you, delete, your, Yahoo, mail, acc...</td>\n",
       "    </tr>\n",
       "    <tr>\n",
       "      <th>68381</th>\n",
       "      <td>68381</td>\n",
       "      <td>118184</td>\n",
       "      <td>118185</td>\n",
       "      <td>What is the real world?</td>\n",
       "      <td>What is out there in the real world?</td>\n",
       "      <td>0</td>\n",
       "      <td>[What, is, the, real, world, ?]</td>\n",
       "      <td>[What, is, out, there, in, the, real, world, ?]</td>\n",
       "    </tr>\n",
       "    <tr>\n",
       "      <th>102409</th>\n",
       "      <td>102409</td>\n",
       "      <td>169441</td>\n",
       "      <td>169442</td>\n",
       "      <td>Why do artists/musicians/actors etc tend to be...</td>\n",
       "      <td>What is the future of left wing politics in In...</td>\n",
       "      <td>0</td>\n",
       "      <td>[Why, do, artists/musicians/actors, etc, tend,...</td>\n",
       "      <td>[What, is, the, future, of, left, wing, politi...</td>\n",
       "    </tr>\n",
       "  </tbody>\n",
       "</table>\n",
       "</div>"
      ],
      "text/plain": [
       "            id    qid1    qid2   \n",
       "298900  298900  132471   44677  \\\n",
       "101435  101435  168039  168040   \n",
       "349253  349253  226755    5914   \n",
       "68381    68381  118184  118185   \n",
       "102409  102409  169441  169442   \n",
       "\n",
       "                                                question1   \n",
       "298900  What are some lesser known facts about PM Nare...  \\\n",
       "101435  How do I use PC's internet connection on Andro...   \n",
       "349253        How do you delete your Yahoo email account?   \n",
       "68381                             What is the real world?   \n",
       "102409  Why do artists/musicians/actors etc tend to be...   \n",
       "\n",
       "                                                question2  is_duplicate   \n",
       "298900  What are some lesser known facts/incidents rel...             1  \\\n",
       "101435  Can I use net on my Android phone from cable b...             0   \n",
       "349253        How can you delete your Yahoo mail account?             1   \n",
       "68381                What is out there in the real world?             0   \n",
       "102409  What is the future of left wing politics in In...             0   \n",
       "\n",
       "                                                  tokens1   \n",
       "298900  [What, are, some, lesser, known, facts, about,...  \\\n",
       "101435  [How, do, I, use, PC, 's, internet, connection...   \n",
       "349253  [How, do, you, delete, your, Yahoo, email, acc...   \n",
       "68381                     [What, is, the, real, world, ?]   \n",
       "102409  [Why, do, artists/musicians/actors, etc, tend,...   \n",
       "\n",
       "                                                  tokens2  \n",
       "298900  [What, are, some, lesser, known, facts/inciden...  \n",
       "101435  [Can, I, use, net, on, my, Android, phone, fro...  \n",
       "349253  [How, can, you, delete, your, Yahoo, mail, acc...  \n",
       "68381     [What, is, out, there, in, the, real, world, ?]  \n",
       "102409  [What, is, the, future, of, left, wing, politi...  "
      ]
     },
     "execution_count": 71,
     "metadata": {},
     "output_type": "execute_result"
    }
   ],
   "source": [
    "train['tokens1'] = train['question1'].apply(word_tokenize)\n",
    "train['tokens2'] = train['question2'].apply(word_tokenize)\n",
    "\n",
    "train.head()"
   ]
  },
  {
   "attachments": {},
   "cell_type": "markdown",
   "metadata": {},
   "source": [
    "#### Stopwords cleaning"
   ]
  },
  {
   "cell_type": "code",
   "execution_count": 72,
   "metadata": {},
   "outputs": [
    {
     "name": "stderr",
     "output_type": "stream",
     "text": [
      "[nltk_data] Downloading package stopwords to C:\\Users\\Verma\n",
      "[nltk_data]     Ashiyaan\\AppData\\Roaming\\nltk_data...\n",
      "[nltk_data]   Package stopwords is already up-to-date!\n"
     ]
    }
   ],
   "source": [
    "# stopwords cleaning\n",
    "from nltk.corpus import stopwords\n",
    "nltk.download('stopwords')\n",
    "\n",
    "stop_words = stopwords.words('english')"
   ]
  },
  {
   "cell_type": "code",
   "execution_count": 73,
   "metadata": {},
   "outputs": [],
   "source": [
    "# function to remove stopwords\n",
    "def remove_stopwords(text):\n",
    "    return [word for word in text if word not in stop_words]"
   ]
  },
  {
   "cell_type": "code",
   "execution_count": 74,
   "metadata": {},
   "outputs": [
    {
     "data": {
      "text/html": [
       "<div>\n",
       "<style scoped>\n",
       "    .dataframe tbody tr th:only-of-type {\n",
       "        vertical-align: middle;\n",
       "    }\n",
       "\n",
       "    .dataframe tbody tr th {\n",
       "        vertical-align: top;\n",
       "    }\n",
       "\n",
       "    .dataframe thead th {\n",
       "        text-align: right;\n",
       "    }\n",
       "</style>\n",
       "<table border=\"1\" class=\"dataframe\">\n",
       "  <thead>\n",
       "    <tr style=\"text-align: right;\">\n",
       "      <th></th>\n",
       "      <th>id</th>\n",
       "      <th>qid1</th>\n",
       "      <th>qid2</th>\n",
       "      <th>question1</th>\n",
       "      <th>question2</th>\n",
       "      <th>is_duplicate</th>\n",
       "      <th>tokens1</th>\n",
       "      <th>tokens2</th>\n",
       "    </tr>\n",
       "  </thead>\n",
       "  <tbody>\n",
       "    <tr>\n",
       "      <th>298900</th>\n",
       "      <td>298900</td>\n",
       "      <td>132471</td>\n",
       "      <td>44677</td>\n",
       "      <td>What are some lesser known facts about PM Nare...</td>\n",
       "      <td>What are some lesser known facts/incidents rel...</td>\n",
       "      <td>1</td>\n",
       "      <td>[What, lesser, known, facts, PM, Narendra, Mod...</td>\n",
       "      <td>[What, lesser, known, facts/incidents, related...</td>\n",
       "    </tr>\n",
       "    <tr>\n",
       "      <th>101435</th>\n",
       "      <td>101435</td>\n",
       "      <td>168039</td>\n",
       "      <td>168040</td>\n",
       "      <td>How do I use PC's internet connection on Andro...</td>\n",
       "      <td>Can I use net on my Android phone from cable b...</td>\n",
       "      <td>0</td>\n",
       "      <td>[How, I, use, PC, 's, internet, connection, An...</td>\n",
       "      <td>[Can, I, use, net, Android, phone, cable, broa...</td>\n",
       "    </tr>\n",
       "    <tr>\n",
       "      <th>349253</th>\n",
       "      <td>349253</td>\n",
       "      <td>226755</td>\n",
       "      <td>5914</td>\n",
       "      <td>How do you delete your Yahoo email account?</td>\n",
       "      <td>How can you delete your Yahoo mail account?</td>\n",
       "      <td>1</td>\n",
       "      <td>[How, delete, Yahoo, email, account, ?]</td>\n",
       "      <td>[How, delete, Yahoo, mail, account, ?]</td>\n",
       "    </tr>\n",
       "    <tr>\n",
       "      <th>68381</th>\n",
       "      <td>68381</td>\n",
       "      <td>118184</td>\n",
       "      <td>118185</td>\n",
       "      <td>What is the real world?</td>\n",
       "      <td>What is out there in the real world?</td>\n",
       "      <td>0</td>\n",
       "      <td>[What, real, world, ?]</td>\n",
       "      <td>[What, real, world, ?]</td>\n",
       "    </tr>\n",
       "    <tr>\n",
       "      <th>102409</th>\n",
       "      <td>102409</td>\n",
       "      <td>169441</td>\n",
       "      <td>169442</td>\n",
       "      <td>Why do artists/musicians/actors etc tend to be...</td>\n",
       "      <td>What is the future of left wing politics in In...</td>\n",
       "      <td>0</td>\n",
       "      <td>[Why, artists/musicians/actors, etc, tend, lef...</td>\n",
       "      <td>[What, future, left, wing, politics, India, ?]</td>\n",
       "    </tr>\n",
       "  </tbody>\n",
       "</table>\n",
       "</div>"
      ],
      "text/plain": [
       "            id    qid1    qid2   \n",
       "298900  298900  132471   44677  \\\n",
       "101435  101435  168039  168040   \n",
       "349253  349253  226755    5914   \n",
       "68381    68381  118184  118185   \n",
       "102409  102409  169441  169442   \n",
       "\n",
       "                                                question1   \n",
       "298900  What are some lesser known facts about PM Nare...  \\\n",
       "101435  How do I use PC's internet connection on Andro...   \n",
       "349253        How do you delete your Yahoo email account?   \n",
       "68381                             What is the real world?   \n",
       "102409  Why do artists/musicians/actors etc tend to be...   \n",
       "\n",
       "                                                question2  is_duplicate   \n",
       "298900  What are some lesser known facts/incidents rel...             1  \\\n",
       "101435  Can I use net on my Android phone from cable b...             0   \n",
       "349253        How can you delete your Yahoo mail account?             1   \n",
       "68381                What is out there in the real world?             0   \n",
       "102409  What is the future of left wing politics in In...             0   \n",
       "\n",
       "                                                  tokens1   \n",
       "298900  [What, lesser, known, facts, PM, Narendra, Mod...  \\\n",
       "101435  [How, I, use, PC, 's, internet, connection, An...   \n",
       "349253            [How, delete, Yahoo, email, account, ?]   \n",
       "68381                              [What, real, world, ?]   \n",
       "102409  [Why, artists/musicians/actors, etc, tend, lef...   \n",
       "\n",
       "                                                  tokens2  \n",
       "298900  [What, lesser, known, facts/incidents, related...  \n",
       "101435  [Can, I, use, net, Android, phone, cable, broa...  \n",
       "349253             [How, delete, Yahoo, mail, account, ?]  \n",
       "68381                              [What, real, world, ?]  \n",
       "102409     [What, future, left, wing, politics, India, ?]  "
      ]
     },
     "execution_count": 74,
     "metadata": {},
     "output_type": "execute_result"
    }
   ],
   "source": [
    "train['tokens1'] = train['tokens1'].apply(remove_stopwords)\n",
    "train['tokens2'] = train['tokens2'].apply(remove_stopwords)\n",
    "\n",
    "train.head()"
   ]
  },
  {
   "attachments": {},
   "cell_type": "markdown",
   "metadata": {},
   "source": [
    "#### Removing punctuation"
   ]
  },
  {
   "cell_type": "code",
   "execution_count": 75,
   "metadata": {},
   "outputs": [],
   "source": [
    "# removing punctuations\n",
    "import string"
   ]
  },
  {
   "cell_type": "code",
   "execution_count": 76,
   "metadata": {},
   "outputs": [],
   "source": [
    "def remove_punctuations(text):\n",
    "    return [word for word in text if word not in string.punctuation]"
   ]
  },
  {
   "cell_type": "code",
   "execution_count": 77,
   "metadata": {},
   "outputs": [],
   "source": [
    "train['tokens1'] = train['tokens1'].apply(remove_punctuations)\n",
    "train['tokens2'] = train['tokens2'].apply(remove_punctuations)"
   ]
  },
  {
   "attachments": {},
   "cell_type": "markdown",
   "metadata": {},
   "source": [
    "#### Normalizing"
   ]
  },
  {
   "cell_type": "code",
   "execution_count": 78,
   "metadata": {},
   "outputs": [
    {
     "name": "stderr",
     "output_type": "stream",
     "text": [
      "[nltk_data] Downloading package wordnet to C:\\Users\\Verma\n",
      "[nltk_data]     Ashiyaan\\AppData\\Roaming\\nltk_data...\n",
      "[nltk_data]   Package wordnet is already up-to-date!\n"
     ]
    }
   ],
   "source": [
    "# normalization\n",
    "from nltk.stem import WordNetLemmatizer\n",
    "nltk.download('wordnet')\n",
    "\n",
    "lemmatizer = WordNetLemmatizer()"
   ]
  },
  {
   "cell_type": "code",
   "execution_count": 79,
   "metadata": {},
   "outputs": [],
   "source": [
    "def word_lemmatizer(text):\n",
    "    lem_text = [lemmatizer.lemmatize(i) for i in text]\n",
    "    return lem_text"
   ]
  },
  {
   "cell_type": "code",
   "execution_count": 80,
   "metadata": {},
   "outputs": [],
   "source": [
    "train['tokens1'] = train['tokens1'].apply(word_lemmatizer)\n",
    "train['tokens2'] = train['tokens2'].apply(word_lemmatizer)"
   ]
  },
  {
   "attachments": {},
   "cell_type": "markdown",
   "metadata": {},
   "source": [
    "#### Stemming"
   ]
  },
  {
   "cell_type": "code",
   "execution_count": 81,
   "metadata": {},
   "outputs": [],
   "source": [
    "# stemming\n",
    "from nltk.stem import PorterStemmer"
   ]
  },
  {
   "cell_type": "code",
   "execution_count": 82,
   "metadata": {},
   "outputs": [],
   "source": [
    "stemmer = PorterStemmer()\n",
    "\n",
    "def word_stemmer(text):\n",
    "    stem_text = \" \".join([stemmer.stem(i) for i in text])\n",
    "    return stem_text"
   ]
  },
  {
   "cell_type": "code",
   "execution_count": 83,
   "metadata": {},
   "outputs": [
    {
     "data": {
      "text/html": [
       "<div>\n",
       "<style scoped>\n",
       "    .dataframe tbody tr th:only-of-type {\n",
       "        vertical-align: middle;\n",
       "    }\n",
       "\n",
       "    .dataframe tbody tr th {\n",
       "        vertical-align: top;\n",
       "    }\n",
       "\n",
       "    .dataframe thead th {\n",
       "        text-align: right;\n",
       "    }\n",
       "</style>\n",
       "<table border=\"1\" class=\"dataframe\">\n",
       "  <thead>\n",
       "    <tr style=\"text-align: right;\">\n",
       "      <th></th>\n",
       "      <th>id</th>\n",
       "      <th>qid1</th>\n",
       "      <th>qid2</th>\n",
       "      <th>question1</th>\n",
       "      <th>question2</th>\n",
       "      <th>is_duplicate</th>\n",
       "      <th>tokens1</th>\n",
       "      <th>tokens2</th>\n",
       "    </tr>\n",
       "  </thead>\n",
       "  <tbody>\n",
       "    <tr>\n",
       "      <th>298900</th>\n",
       "      <td>298900</td>\n",
       "      <td>132471</td>\n",
       "      <td>44677</td>\n",
       "      <td>What are some lesser known facts about PM Nare...</td>\n",
       "      <td>What are some lesser known facts/incidents rel...</td>\n",
       "      <td>1</td>\n",
       "      <td>what lesser known fact pm narendra modi</td>\n",
       "      <td>what lesser known facts/incid relat narendra modi</td>\n",
       "    </tr>\n",
       "    <tr>\n",
       "      <th>101435</th>\n",
       "      <td>101435</td>\n",
       "      <td>168039</td>\n",
       "      <td>168040</td>\n",
       "      <td>How do I use PC's internet connection on Andro...</td>\n",
       "      <td>Can I use net on my Android phone from cable b...</td>\n",
       "      <td>0</td>\n",
       "      <td>how i use pc 's internet connect android phone...</td>\n",
       "      <td>can i use net android phone cabl broadband con...</td>\n",
       "    </tr>\n",
       "    <tr>\n",
       "      <th>349253</th>\n",
       "      <td>349253</td>\n",
       "      <td>226755</td>\n",
       "      <td>5914</td>\n",
       "      <td>How do you delete your Yahoo email account?</td>\n",
       "      <td>How can you delete your Yahoo mail account?</td>\n",
       "      <td>1</td>\n",
       "      <td>how delet yahoo email account</td>\n",
       "      <td>how delet yahoo mail account</td>\n",
       "    </tr>\n",
       "    <tr>\n",
       "      <th>68381</th>\n",
       "      <td>68381</td>\n",
       "      <td>118184</td>\n",
       "      <td>118185</td>\n",
       "      <td>What is the real world?</td>\n",
       "      <td>What is out there in the real world?</td>\n",
       "      <td>0</td>\n",
       "      <td>what real world</td>\n",
       "      <td>what real world</td>\n",
       "    </tr>\n",
       "    <tr>\n",
       "      <th>102409</th>\n",
       "      <td>102409</td>\n",
       "      <td>169441</td>\n",
       "      <td>169442</td>\n",
       "      <td>Why do artists/musicians/actors etc tend to be...</td>\n",
       "      <td>What is the future of left wing politics in In...</td>\n",
       "      <td>0</td>\n",
       "      <td>whi artists/musicians/actor etc tend left wing...</td>\n",
       "      <td>what futur left wing polit india</td>\n",
       "    </tr>\n",
       "  </tbody>\n",
       "</table>\n",
       "</div>"
      ],
      "text/plain": [
       "            id    qid1    qid2   \n",
       "298900  298900  132471   44677  \\\n",
       "101435  101435  168039  168040   \n",
       "349253  349253  226755    5914   \n",
       "68381    68381  118184  118185   \n",
       "102409  102409  169441  169442   \n",
       "\n",
       "                                                question1   \n",
       "298900  What are some lesser known facts about PM Nare...  \\\n",
       "101435  How do I use PC's internet connection on Andro...   \n",
       "349253        How do you delete your Yahoo email account?   \n",
       "68381                             What is the real world?   \n",
       "102409  Why do artists/musicians/actors etc tend to be...   \n",
       "\n",
       "                                                question2  is_duplicate   \n",
       "298900  What are some lesser known facts/incidents rel...             1  \\\n",
       "101435  Can I use net on my Android phone from cable b...             0   \n",
       "349253        How can you delete your Yahoo mail account?             1   \n",
       "68381                What is out there in the real world?             0   \n",
       "102409  What is the future of left wing politics in In...             0   \n",
       "\n",
       "                                                  tokens1   \n",
       "298900            what lesser known fact pm narendra modi  \\\n",
       "101435  how i use pc 's internet connect android phone...   \n",
       "349253                      how delet yahoo email account   \n",
       "68381                                     what real world   \n",
       "102409  whi artists/musicians/actor etc tend left wing...   \n",
       "\n",
       "                                                  tokens2  \n",
       "298900  what lesser known facts/incid relat narendra modi  \n",
       "101435  can i use net android phone cabl broadband con...  \n",
       "349253                       how delet yahoo mail account  \n",
       "68381                                     what real world  \n",
       "102409                   what futur left wing polit india  "
      ]
     },
     "execution_count": 83,
     "metadata": {},
     "output_type": "execute_result"
    }
   ],
   "source": [
    "train['tokens1'] = train['tokens1'].apply(word_stemmer)\n",
    "train['tokens2'] = train['tokens2'].apply(word_stemmer)\n",
    "\n",
    "train.head()"
   ]
  },
  {
   "cell_type": "code",
   "execution_count": null,
   "metadata": {},
   "outputs": [],
   "source": []
  },
  {
   "attachments": {},
   "cell_type": "markdown",
   "metadata": {},
   "source": [
    "### Feature Engineering\n",
    "\n",
    "- tf-idf\n",
    "- word2vec\n",
    "- word count\n",
    "- number of the same words in both questions\n",
    "- ...."
   ]
  },
  {
   "cell_type": "code",
   "execution_count": null,
   "metadata": {},
   "outputs": [],
   "source": []
  },
  {
   "cell_type": "code",
   "execution_count": null,
   "metadata": {},
   "outputs": [],
   "source": []
  },
  {
   "cell_type": "code",
   "execution_count": null,
   "metadata": {},
   "outputs": [],
   "source": []
  },
  {
   "cell_type": "code",
   "execution_count": null,
   "metadata": {},
   "outputs": [],
   "source": []
  },
  {
   "attachments": {},
   "cell_type": "markdown",
   "metadata": {},
   "source": [
    "### Modeling\n",
    "\n",
    "Different modeling techniques can be used:\n",
    "\n",
    "- logistic regression\n",
    "- XGBoost\n",
    "- LSTMs\n",
    "- etc"
   ]
  },
  {
   "cell_type": "code",
   "execution_count": null,
   "metadata": {},
   "outputs": [],
   "source": []
  },
  {
   "cell_type": "code",
   "execution_count": null,
   "metadata": {},
   "outputs": [],
   "source": []
  },
  {
   "cell_type": "code",
   "execution_count": null,
   "metadata": {},
   "outputs": [],
   "source": []
  },
  {
   "cell_type": "code",
   "execution_count": null,
   "metadata": {},
   "outputs": [],
   "source": []
  },
  {
   "cell_type": "code",
   "execution_count": null,
   "metadata": {},
   "outputs": [],
   "source": []
  }
 ],
 "metadata": {
  "kernelspec": {
   "display_name": "test_env",
   "language": "python",
   "name": "test_env"
  },
  "language_info": {
   "codemirror_mode": {
    "name": "ipython",
    "version": 3
   },
   "file_extension": ".py",
   "mimetype": "text/x-python",
   "name": "python",
   "nbconvert_exporter": "python",
   "pygments_lexer": "ipython3",
   "version": "3.9.13"
  }
 },
 "nbformat": 4,
 "nbformat_minor": 4
}
